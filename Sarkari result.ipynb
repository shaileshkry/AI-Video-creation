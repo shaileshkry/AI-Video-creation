{
 "cells": [
  {
   "cell_type": "code",
   "execution_count": 9,
   "id": "30b47edb",
   "metadata": {},
   "outputs": [],
   "source": [
    "import requests as rq\n",
    "from bs4 import BeautifulSoup as bsp\n",
    "import re"
   ]
  },
  {
   "cell_type": "code",
   "execution_count": 10,
   "id": "f6245baa",
   "metadata": {},
   "outputs": [],
   "source": [
    "link='https://www.sarkariresult.com/2024/isro-ursc-feb24/'"
   ]
  },
  {
   "cell_type": "code",
   "execution_count": 11,
   "id": "5f63d05b",
   "metadata": {},
   "outputs": [
    {
     "name": "stdout",
     "output_type": "stream",
     "text": [
      "<Response [200]>\n"
     ]
    }
   ],
   "source": [
    "res=rq.get(link)\n",
    "print(res)\n",
    "html=res.text"
   ]
  },
  {
   "cell_type": "code",
   "execution_count": 12,
   "id": "db40b8ca",
   "metadata": {},
   "outputs": [],
   "source": [
    "soup=bsp(html,'html.parser')"
   ]
  },
  {
   "cell_type": "code",
   "execution_count": 13,
   "id": "499c5323",
   "metadata": {},
   "outputs": [
    {
     "data": {
      "text/plain": [
       "<li>\n",
       "<a class=\"parent\" href=\"https://www.sarkariresult.com\">\n",
       "<span>Home</span>\n",
       "</a>\n",
       "</li>"
      ]
     },
     "execution_count": 13,
     "metadata": {},
     "output_type": "execute_result"
    }
   ],
   "source": [
    "soup.find('li')"
   ]
  },
  {
   "cell_type": "code",
   "execution_count": 14,
   "id": "f356b2e5",
   "metadata": {},
   "outputs": [
    {
     "data": {
      "text/plain": [
       "'ISRO URSC Various Posts Online Form 2024 for 224 Post'"
      ]
     },
     "execution_count": 14,
     "metadata": {},
     "output_type": "execute_result"
    }
   ],
   "source": [
    "soup.find('title').text[2:]"
   ]
  },
  {
   "cell_type": "code",
   "execution_count": 15,
   "id": "6241f21c",
   "metadata": {},
   "outputs": [
    {
     "name": "stdout",
     "output_type": "stream",
     "text": [
      "ISRO URSC Various Posts Online Form 2024 for 224 Post\n",
      "Application Begin : 10/02/2024\n",
      "Last Date for Apply Online : 01/03/2024\n",
      "Pay Exam Fee Last Date : 01/03/2024\n",
      "Exam Date :As per Schedule\n",
      "For Scientist / Engineer / Technical Assistant / Scientific Assistant Post : 750/- (All Candidates) \n",
      "UR  / OBC / EWS : 250/-\n",
      "SC / ST / PH : 0/-\n",
      "For Technician B & Other Post :  500/- (All Candidates)\n",
      "UR  / OBC / EWS : 100/-\n",
      "SC / ST / PH : 0/-\n",
      "After the Appear Written Test Processing Fee Will be Refunded\n",
      "Pay the Exam Fee Through Online Debit Card / Credit Card / Net Banking / UPI Mode Only\n",
      "Minimum Age : 18 Years \n",
      "Maximum Age : 28 Years for Post Code 003 and 004\n",
      "Maximum Age : 30 Years for Post Code 001 and 002\n",
      "Maximum Age : 25 Years for Fireman A\n",
      "Maximum Age : 35 Years for All Other Post \n",
      "Read the Notification for ISRO URSC Scientist / Engineer - SC / Technical Assistant / Scientific Assistant / Library Assistant / Technician - B / Draughtsman - B / Cook / Fireman - A / Heavy Vehicle Driver - A / Light Vehicle Driver - A Recruitment 2024 Notification for Age Relaxation Rules.\n",
      "ME / M.Tech Degree in Related Trade with Minimum 60% Marks.\n",
      "ME / M.Tech / M.Sc Degree in Related Trade with 60% Marks.\n"
     ]
    }
   ],
   "source": [
    "j=0\n",
    "title=soup.find('title').text[2:]\n",
    "pdf=title +\"\\n\"\n",
    "print(soup.find('title').text[2:])\n",
    "\n",
    "for i in soup.find_all('li') or soup.find_all('h1') or soup.find_all('h2') or soup.find_all('b'):\n",
    "    if j in range(10,30):\n",
    "        print(i.text)\n",
    "        pdf+=str(i.text)+'\\n'\n",
    "    j+=1"
   ]
  },
  {
   "cell_type": "code",
   "execution_count": null,
   "id": "ac0bbf15",
   "metadata": {},
   "outputs": [],
   "source": []
  }
 ],
 "metadata": {
  "kernelspec": {
   "display_name": "Python 3 (ipykernel)",
   "language": "python",
   "name": "python3"
  },
  "language_info": {
   "codemirror_mode": {
    "name": "ipython",
    "version": 3
   },
   "file_extension": ".py",
   "mimetype": "text/x-python",
   "name": "python",
   "nbconvert_exporter": "python",
   "pygments_lexer": "ipython3",
   "version": "3.11.5"
  }
 },
 "nbformat": 4,
 "nbformat_minor": 5
}
