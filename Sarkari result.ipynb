{
 "cells": [
  {
   "cell_type": "code",
   "execution_count": 27,
   "id": "9af288cc",
   "metadata": {},
   "outputs": [],
   "source": [
    "import requests as rq\n",
    "from bs4 import BeautifulSoup as bsp\n",
    "import re"
   ]
  },
  {
   "cell_type": "code",
   "execution_count": 28,
   "id": "3af09953",
   "metadata": {},
   "outputs": [],
   "source": [
    "link='https://www.sarkariresult.com/bihar/bpsc-school-teacher-tre3-feb24/'"
   ]
  },
  {
   "cell_type": "code",
   "execution_count": 29,
   "id": "fc06f742",
   "metadata": {},
   "outputs": [
    {
     "data": {
      "text/plain": [
       "<Response [200]>"
      ]
     },
     "execution_count": 29,
     "metadata": {},
     "output_type": "execute_result"
    }
   ],
   "source": [
    "res=rq.get(link)\n",
    "res\n"
   ]
  },
  {
   "cell_type": "code",
   "execution_count": 30,
   "id": "20969e22",
   "metadata": {},
   "outputs": [],
   "source": [
    "html=res.text"
   ]
  },
  {
   "cell_type": "code",
   "execution_count": 31,
   "id": "2252d4c0",
   "metadata": {},
   "outputs": [],
   "source": [
    "soup=bsp(html,'html.parser')"
   ]
  },
  {
   "cell_type": "code",
   "execution_count": 32,
   "id": "b40733bb",
   "metadata": {},
   "outputs": [
    {
     "data": {
      "text/plain": [
       "<li>\n",
       "<a class=\"parent\" href=\"https://www.sarkariresult.com\">\n",
       "<span>Home</span>\n",
       "</a>\n",
       "</li>"
      ]
     },
     "execution_count": 32,
     "metadata": {},
     "output_type": "execute_result"
    }
   ],
   "source": [
    "soup.find('li')"
   ]
  },
  {
   "cell_type": "code",
   "execution_count": 33,
   "id": "1ca10dea",
   "metadata": {},
   "outputs": [
    {
     "data": {
      "text/plain": [
       "'Bihar BPSC School Teacher TRE 3 Online Form 2024'"
      ]
     },
     "execution_count": 33,
     "metadata": {},
     "output_type": "execute_result"
    }
   ],
   "source": [
    "soup.find('title').text[2:]"
   ]
  },
  {
   "cell_type": "code",
   "execution_count": 34,
   "id": "3d8c6afd",
   "metadata": {},
   "outputs": [
    {
     "name": "stdout",
     "output_type": "stream",
     "text": [
      "Bihar BPSC School Teacher TRE 3 Online Form 2024\n",
      "Application Begin : 10/02/2024\n",
      "Last Date for Apply Online : 23/02/2024\n",
      "Pay Exam Fee Last Date : 23/02/2024\n",
      "Last Date with Late Fee : 25/02/2024\n",
      "Exam Date :07-17 March 2024\r\n",
      "\n",
      "General / OBC/ Other State : 750/-\n",
      "SC / ST / PH : 200/-\n",
      "Female Candidate (Bihar Dom.) : 200/-\n",
      "Pay the Exam Fee Through Online / Offline Fee Mode Only\n",
      "Minimum Age : 18 Years for Primary Teacher\n",
      "Minimum Age : 21 Years for TGT / PGT Teacher\n",
      "Maximum Age : 37 Years for Male & 40 Years for Female \n",
      "Read the Notification for Age Relaxation in BPSC School Primary, TGT, PGT Teacher Recruitment 2024.\n",
      "Senior Secondary with 50% Marks and 2 Year Diploma in Elementary Education OR\n",
      "Senior Secondary with 45% Marks and 2 Year Diploma in Elementary Education (AS PER NCTE Norms 2002) OR\n",
      "Senior Secondary with 50% Marks and 4 Year B.L.Ed Course OR\n",
      "Senior Secondary with 50% Marks and 2 Year Diploma in Elementary Education (Special) OR\n",
      "Bachelor Degree in Any Stream with 2 Year Diploma in Elementary Education\n",
      "CTET / BTET Paper I Exam Passed\n",
      "More Eligibility Read the Notification.\n"
     ]
    }
   ],
   "source": [
    "j=0\n",
    "title=soup.find('title').text[2:]\n",
    "pdf=title +\"\\n\"\n",
    "print(soup.find('title').text[2:])\n",
    "\n",
    "for i in soup.find_all('li') or soup.find_all('h1') or soup.find_all('h2') or soup.find_all('b'):\n",
    "    if j in range(10,30):\n",
    "        print(i.text)\n",
    "        pdf+=str(i.text)+'\\n'\n",
    "    j+=1"
   ]
  },
  {
   "cell_type": "code",
   "execution_count": null,
   "id": "70c791f5",
   "metadata": {},
   "outputs": [],
   "source": []
  },
  {
   "cell_type": "code",
   "execution_count": null,
   "id": "d4a7ad31",
   "metadata": {},
   "outputs": [],
   "source": []
  }
 ],
 "metadata": {
  "kernelspec": {
   "display_name": "Python 3 (ipykernel)",
   "language": "python",
   "name": "python3"
  },
  "language_info": {
   "codemirror_mode": {
    "name": "ipython",
    "version": 3
   },
   "file_extension": ".py",
   "mimetype": "text/x-python",
   "name": "python",
   "nbconvert_exporter": "python",
   "pygments_lexer": "ipython3",
   "version": "3.11.5"
  }
 },
 "nbformat": 4,
 "nbformat_minor": 5
}
