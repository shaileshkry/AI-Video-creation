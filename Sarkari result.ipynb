{
 "cells": [
  {
   "cell_type": "code",
   "execution_count": 2,
   "id": "a52accac",
   "metadata": {},
   "outputs": [],
   "source": [
    "import requests as rq\n",
    "from bs4 import BeautifulSoup as bsp\n",
    "import re"
   ]
  },
  {
   "cell_type": "code",
   "execution_count": 3,
   "id": "411b408d",
   "metadata": {},
   "outputs": [],
   "source": [
    "link='https://www.sarkariresult.com/upsc/upsc-ias-ifs-2024/'"
   ]
  },
  {
   "cell_type": "code",
   "execution_count": 4,
   "id": "e735fc89",
   "metadata": {},
   "outputs": [
    {
     "name": "stdout",
     "output_type": "stream",
     "text": [
      "<Response [200]>\n"
     ]
    }
   ],
   "source": [
    "res=rq.get(link)\n",
    "print(res)\n",
    "html=res.text"
   ]
  },
  {
   "cell_type": "code",
   "execution_count": 5,
   "id": "da8f4aa3",
   "metadata": {},
   "outputs": [],
   "source": [
    "soup=bsp(html,'html.parser')"
   ]
  },
  {
   "cell_type": "code",
   "execution_count": 6,
   "id": "2921f5a4",
   "metadata": {},
   "outputs": [
    {
     "data": {
      "text/plain": [
       "<li>\n",
       "<a class=\"parent\" href=\"https://www.sarkariresult.com\">\n",
       "<span>Home</span>\n",
       "</a>\n",
       "</li>"
      ]
     },
     "execution_count": 6,
     "metadata": {},
     "output_type": "execute_result"
    }
   ],
   "source": [
    "soup.find('li')"
   ]
  },
  {
   "cell_type": "code",
   "execution_count": 7,
   "id": "863902b3",
   "metadata": {},
   "outputs": [
    {
     "data": {
      "text/plain": [
       "'UPSC Civil Services IAS IFS Pre Online Form 2024'"
      ]
     },
     "execution_count": 7,
     "metadata": {},
     "output_type": "execute_result"
    }
   ],
   "source": [
    "soup.find('title').text[2:]"
   ]
  },
  {
   "cell_type": "code",
   "execution_count": 8,
   "id": "70579d22",
   "metadata": {},
   "outputs": [
    {
     "name": "stdout",
     "output_type": "stream",
     "text": [
      "UPSC Civil Services IAS IFS Pre Online Form 2024\n",
      "Application Begin : 14/02/2024\n",
      "Last Date for Apply Online : 05/03/2024\n",
      "\n",
      "Last Date Pay Exam Fee : 05/03/2024\n",
      "Correction Date : 06-12 March 2024\n",
      "Pre Exam Date : 26/05/2024\n",
      "Admit Card Available : Before Exam\n",
      "General / OBC / EWS : 100/-\n",
      "SC / ST / PH : 0/- (Exempted)\n",
      "All Category Female : 0/- (Nil)\n",
      "Pay the Examination Fee Through Debit Card, Credit, Card, Net Banking or E Challan Fee Mode Only\n",
      "Minimum Age : 21 Years\n",
      "Maximum Age : 32 Years\n",
      "Age Relaxation Extra as per UPSC Civil Services and Forest Exam Exam 2024 Recruitment Rules\n",
      "Bachelor Degree in Any Stream in Any Recognized University in India\n",
      "Bachelor Degree as one of Subject Animal Husbandry & Veterinary Science, Botany, Chemistry, Geology, Mathematics, Physics, Statistics and Zoology, Agriculture or Equivalent.\n",
      "To apply for Civil Services and Forest Services Recruitment 2024 in UPSC, it will be mandatory for the candidate to do One Time Registration OTR.\n",
      "Union Public Service Commission UPSC Civil Services / Forest Service IAS / IFS Prelim Exam Latest Jobs Recruitment 2024. Candidate Can Apply Between 14/02/2024 to 05/03/2024.\n",
      "Candidate Read the Notification Before Apply the Recruitment Application Form in UPSC 2024.\n",
      "Kindly Check and Collect the All Document - Eligibility, ID Proof, Address Details, Basic Details.\n",
      "Kindly Ready Scan Document Related to Recruitment Exam Form - Photo, Sign, ID Proof, Etc.\n"
     ]
    }
   ],
   "source": [
    "j=0\n",
    "title=soup.find('title').text[2:]\n",
    "pdf=title +\"\\n\"\n",
    "print(soup.find('title').text[2:])\n",
    "\n",
    "for i in soup.find_all('li') or soup.find_all('h1') or soup.find_all('h2') or soup.find_all('b'):\n",
    "    if j in range(10,30):\n",
    "        print(i.text)\n",
    "        pdf+=str(i.text)+'\\n'\n",
    "    j+=1"
   ]
  },
  {
   "cell_type": "code",
   "execution_count": null,
   "id": "3fc0dd5d",
   "metadata": {},
   "outputs": [],
   "source": []
  }
 ],
 "metadata": {
  "kernelspec": {
   "display_name": "Python 3 (ipykernel)",
   "language": "python",
   "name": "python3"
  },
  "language_info": {
   "codemirror_mode": {
    "name": "ipython",
    "version": 3
   },
   "file_extension": ".py",
   "mimetype": "text/x-python",
   "name": "python",
   "nbconvert_exporter": "python",
   "pygments_lexer": "ipython3",
   "version": "3.11.5"
  }
 },
 "nbformat": 4,
 "nbformat_minor": 5
}
