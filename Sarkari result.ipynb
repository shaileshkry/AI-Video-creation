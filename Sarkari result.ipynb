{
 "cells": [
  {
   "cell_type": "code",
   "execution_count": 15,
   "id": "30b47edb",
   "metadata": {},
   "outputs": [],
   "source": [
    "import requests as rq\n",
    "from bs4 import BeautifulSoup as bsp\n",
    "import re"
   ]
  },
  {
   "cell_type": "code",
   "execution_count": 16,
   "id": "f6245baa",
   "metadata": {},
   "outputs": [],
   "source": [
    "link='https://www.sarkariresult.com/railway/rrb-technician-02-2024/'"
   ]
  },
  {
   "cell_type": "code",
   "execution_count": 17,
   "id": "5f63d05b",
   "metadata": {},
   "outputs": [
    {
     "name": "stdout",
     "output_type": "stream",
     "text": [
      "<Response [200]>\n"
     ]
    }
   ],
   "source": [
    "res=rq.get(link)\n",
    "print(res)\n",
    "html=res.text"
   ]
  },
  {
   "cell_type": "code",
   "execution_count": 18,
   "id": "db40b8ca",
   "metadata": {},
   "outputs": [],
   "source": [
    "soup=bsp(html,'html.parser')"
   ]
  },
  {
   "cell_type": "code",
   "execution_count": 19,
   "id": "499c5323",
   "metadata": {},
   "outputs": [
    {
     "data": {
      "text/plain": [
       "<li>\n",
       "<a class=\"parent\" href=\"https://www.sarkariresult.com\">\n",
       "<span>Home</span>\n",
       "</a>\n",
       "</li>"
      ]
     },
     "execution_count": 19,
     "metadata": {},
     "output_type": "execute_result"
    }
   ],
   "source": [
    "soup.find('li')"
   ]
  },
  {
   "cell_type": "code",
   "execution_count": 20,
   "id": "f356b2e5",
   "metadata": {},
   "outputs": [
    {
     "data": {
      "text/plain": [
       "'RRB Railway Technician Online Form 2024 for 9000 Post'"
      ]
     },
     "execution_count": 20,
     "metadata": {},
     "output_type": "execute_result"
    }
   ],
   "source": [
    "soup.find('title').text[2:]"
   ]
  },
  {
   "cell_type": "code",
   "execution_count": 21,
   "id": "6241f21c",
   "metadata": {},
   "outputs": [
    {
     "name": "stdout",
     "output_type": "stream",
     "text": [
      "RRB Railway Technician Online Form 2024 for 9000 Post\n",
      "Application Begin : March 2024\n",
      "Last Date for Apply Online : April 2024\n",
      "Last Date Pay Exam Fee : April 2024\n",
      "Correction / Modified Form : As per Schedule\r\n",
      "\n",
      "Exam Date : October / December 2024\r\n",
      "\n",
      "Admit Card Available : Notified Soon  \n",
      "General / OBC / EWS : 500/-\n",
      "SC / ST / PH : 250/-\n",
      "All Category Female : 250/-\n",
      "After Appear the Stage I Exam \n",
      "UR/OBC/EWS Fee Refund : 400/-\n",
      "SC / ST / PH / Female Refund : 250/-\n",
      "Pay the Examination Fee Through Debit Card, Credit Card, Net Banking Fee Mode Only.\n",
      "Minimum Age : 18 Years\n",
      "Maximum Age : NA\n",
      "Age Relaxation Extra as per Railway Recruitment Board RRB Technician Recruitment Advt No. CEN 02/2024 Vacancy Rules.\n",
      "Eligibility Details Will be Available Soon.\n",
      "Railway Recruitment Board RRB Online Released Technician Recruitment Advt No. CEN 02/2024 Exam. Candidate Can Apply Between March 2024 to April 2024.\n",
      "Candidate Read the Notification Before Apply the Recruitment Application Form in Railway Board Technician Exam 2024 Advt No. 02/2024 Exam Online Form 2024.\n",
      "Kindly Check and Collect the All Document - Eligibility, ID Proof, Address Details, Basic Details.\n"
     ]
    }
   ],
   "source": [
    "j=0\n",
    "title=soup.find('title').text[2:]\n",
    "pdf=title +\"\\n\"\n",
    "print(soup.find('title').text[2:])\n",
    "\n",
    "for i in soup.find_all('li') or soup.find_all('h1') or soup.find_all('h2') or soup.find_all('b'):\n",
    "    if j in range(10,30):\n",
    "        print(i.text)\n",
    "        pdf+=str(i.text)+'\\n'\n",
    "    j+=1"
   ]
  },
  {
   "cell_type": "code",
   "execution_count": null,
   "id": "ac0bbf15",
   "metadata": {},
   "outputs": [],
   "source": []
  }
 ],
 "metadata": {
  "kernelspec": {
   "display_name": "Python 3 (ipykernel)",
   "language": "python",
   "name": "python3"
  },
  "language_info": {
   "codemirror_mode": {
    "name": "ipython",
    "version": 3
   },
   "file_extension": ".py",
   "mimetype": "text/x-python",
   "name": "python",
   "nbconvert_exporter": "python",
   "pygments_lexer": "ipython3",
   "version": "3.11.5"
  }
 },
 "nbformat": 4,
 "nbformat_minor": 5
}
