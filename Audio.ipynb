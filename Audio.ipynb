{
 "cells": [
  {
   "cell_type": "code",
   "execution_count": 10,
   "id": "8a2c33de",
   "metadata": {},
   "outputs": [],
   "source": [
    "#!pip install gtts"
   ]
  },
  {
   "cell_type": "code",
   "execution_count": 11,
   "id": "5429b1fc",
   "metadata": {},
   "outputs": [],
   "source": [
    "from gtts import gTTS"
   ]
  },
  {
   "cell_type": "code",
   "execution_count": 12,
   "id": "6a601deb",
   "metadata": {},
   "outputs": [],
   "source": [
    "text1=\"Subscribe My Youtube Channel  Samachar Hut for more videos \""
   ]
  },
  {
   "cell_type": "code",
   "execution_count": 13,
   "id": "7794a076",
   "metadata": {},
   "outputs": [],
   "source": [
    "text2=\"\"\"\n",
    "\n",
    "रेलवे भर्ती बोर्ड (RRB) द्वारा 9000 पदों के लिए तकनीशियन भर्ती ऑनलाइन फॉर्म 2024 जारी किया गया है। इच्छुक उम्मीदवार मार्च से अप्रैल 2024 के बीच आवेदन कर सकते हैं। यह एक अच्छा मौका है जो रेलवे में करियर बनाने के इच्छुक हैं।\n",
    "\n",
    "\n",
    "\"\"\""
   ]
  },
  {
   "cell_type": "code",
   "execution_count": 14,
   "id": "1d0c7373",
   "metadata": {},
   "outputs": [],
   "source": [
    "text3 = \"Kya aap apply kar rahe hai , Comment me jarur bataye \""
   ]
  },
  {
   "cell_type": "code",
   "execution_count": 15,
   "id": "5c7116e3",
   "metadata": {},
   "outputs": [],
   "source": [
    "text4=\" Thanks for watching , Best of Luck for Your Future \""
   ]
  },
  {
   "cell_type": "code",
   "execution_count": 16,
   "id": "bc1e2f7d",
   "metadata": {},
   "outputs": [],
   "source": [
    "txt=text1 + text2 + text3 + text4"
   ]
  },
  {
   "cell_type": "code",
   "execution_count": 17,
   "id": "52e82437",
   "metadata": {},
   "outputs": [],
   "source": [
    "tts=gTTS(text=txt,lang='hi',slow=False)"
   ]
  },
  {
   "cell_type": "code",
   "execution_count": 18,
   "id": "99a3e3a0",
   "metadata": {},
   "outputs": [],
   "source": [
    "tts.save('audio.mp3')"
   ]
  },
  {
   "cell_type": "code",
   "execution_count": null,
   "id": "1e304c18",
   "metadata": {},
   "outputs": [],
   "source": []
  },
  {
   "cell_type": "code",
   "execution_count": null,
   "id": "c810c46c",
   "metadata": {},
   "outputs": [],
   "source": []
  },
  {
   "cell_type": "code",
   "execution_count": null,
   "id": "4d407cd1",
   "metadata": {},
   "outputs": [],
   "source": []
  },
  {
   "cell_type": "code",
   "execution_count": null,
   "id": "53da4933",
   "metadata": {},
   "outputs": [],
   "source": []
  }
 ],
 "metadata": {
  "kernelspec": {
   "display_name": "Python 3 (ipykernel)",
   "language": "python",
   "name": "python3"
  },
  "language_info": {
   "codemirror_mode": {
    "name": "ipython",
    "version": 3
   },
   "file_extension": ".py",
   "mimetype": "text/x-python",
   "name": "python",
   "nbconvert_exporter": "python",
   "pygments_lexer": "ipython3",
   "version": "3.11.5"
  }
 },
 "nbformat": 4,
 "nbformat_minor": 5
}
