{
 "cells": [
  {
   "cell_type": "code",
   "execution_count": 9,
   "id": "af426088",
   "metadata": {},
   "outputs": [],
   "source": [
    "#!pip install gtts"
   ]
  },
  {
   "cell_type": "code",
   "execution_count": 10,
   "id": "42d17e9f",
   "metadata": {},
   "outputs": [],
   "source": [
    "from gtts import gTTS"
   ]
  },
  {
   "cell_type": "code",
   "execution_count": 11,
   "id": "cbfa5a75",
   "metadata": {},
   "outputs": [],
   "source": [
    "txt=\"\"\"\n",
    "\n",
    "बिहार बीपीएससी स्कूल शिक्षक टीआरई 3 ऑनलाइन फॉर्म 2024\n",
    "आवेदन शुरू: 10/02/2024\n",
    "ऑनलाइन आवेदन करने की अंतिम तिथि: 23/02/2024\n",
    "परीक्षा शुल्क जमा करने की अंतिम तिथि: 23/02/2024\n",
    "विलम्ब शुल्क के साथ अंतिम तिथि: 25/02/2024\n",
    "परीक्षा तिथि: 07-17 मार्च 2024\n",
    "\n",
    "सामान्य / ओबीसी / अन्य राज्य: 750/-\n",
    "एससी / एसटी / एसटी / एसटी / फीएच: 200/-\n",
    "महिला उम्मीदवार (बिहार डोम): 200/-\n",
    "परीक्षा शुल्क केवल ऑनलाइन / ऑफ़लाइन शुल्क मोड के माध्यम से जमा करें\n",
    "\n",
    "न्यूनतम आयु: प्राथमिक शिक्षक के लिए 18 वर्ष\n",
    "न्यूनतम आयु: टीजीटी / पीजीटी शिक्षक के लिए 21 वर्ष\n",
    "अधिकतम आयु: पुरुषों के लिए 37 वर्ष और महिलाओं के लिए 40 वर्ष\n",
    "बिहार डोमिसाइल की महिला उम्मीदवार के लिए आयु संबंधी छूट के लिए अधिसूचना पढ़ें।\n",
    "50% अंकों के साथ उच्चतर माध्यमिक और प्राथमिक शिक्षा में 2 वर्ष का डिप्लोमा या\n",
    "45% अंकों के साथ उच्चतर माध्यमिक और प्राथमिक शिक्षा में 2 वर्ष का डिप्लोमा (NCTE नियम 2002 के अनुसार) या\n",
    "50% अंकों के साथ उच्चतर माध्यमिक और 4 वर्ष का बी.एल.एड. पाठ्यक्रम या\n",
    "50% अंकों के साथ उच्चतर माध्यमिक और प्राथमिक शिक्षा में 2 वर्ष का डिप्लोमा (विशेष) या\n",
    "किसी भी धारा में स्नातक उपाधि और प्राथमिक शिक्षा में 2 वर्ष का डिप्लोमा\n",
    "सीटीईटी / बीटीईटी पेपर I परीक्षा उत्तीर्ण\n",
    "अधिक योग्यता के लिए अधिसूचना पढ़ें।\n",
    "\n",
    "\"\"\""
   ]
  },
  {
   "cell_type": "code",
   "execution_count": 12,
   "id": "5756a486",
   "metadata": {},
   "outputs": [],
   "source": [
    "tts=gTTS(text=txt,lang='hi',slow=False)"
   ]
  },
  {
   "cell_type": "code",
   "execution_count": 13,
   "id": "8734e6d3",
   "metadata": {},
   "outputs": [],
   "source": [
    "tts.save('audio.mp3')"
   ]
  },
  {
   "cell_type": "code",
   "execution_count": null,
   "id": "15ffecfa",
   "metadata": {},
   "outputs": [],
   "source": []
  }
 ],
 "metadata": {
  "kernelspec": {
   "display_name": "Python 3 (ipykernel)",
   "language": "python",
   "name": "python3"
  },
  "language_info": {
   "codemirror_mode": {
    "name": "ipython",
    "version": 3
   },
   "file_extension": ".py",
   "mimetype": "text/x-python",
   "name": "python",
   "nbconvert_exporter": "python",
   "pygments_lexer": "ipython3",
   "version": "3.11.5"
  }
 },
 "nbformat": 4,
 "nbformat_minor": 5
}
