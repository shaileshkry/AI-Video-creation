{
 "cells": [
  {
   "cell_type": "code",
   "execution_count": 9,
   "id": "aa5223e8",
   "metadata": {},
   "outputs": [],
   "source": [
    "#!pip install gtts"
   ]
  },
  {
   "cell_type": "code",
   "execution_count": 10,
   "id": "15055ae6",
   "metadata": {},
   "outputs": [],
   "source": [
    "from gtts import gTTS"
   ]
  },
  {
   "cell_type": "code",
   "execution_count": 11,
   "id": "d5cadc77",
   "metadata": {},
   "outputs": [],
   "source": [
    "text1=\"Subscribe My Youtube Channel  Samachar Hut for more videos \""
   ]
  },
  {
   "cell_type": "code",
   "execution_count": 12,
   "id": "55645860",
   "metadata": {},
   "outputs": [],
   "source": [
    "text2=\"\"\"\n",
    "\n",
    "\n",
    "बिहार BPSC स्कूल शिक्षक TRE 3 ऑनलाइन फॉर्म 2024\n",
    "\n",
    "\n",
    "\n",
    "आवेदन प्रारंभ: 10/02/2024\n",
    "ऑनलाइन आवेदन करने की अंतिम तिथि: 23/02/2024\n",
    "परीक्षा शुल्क जमा करने की अंतिम तिथि: 23/02/2024\n",
    "विलम्ब शुल्क के साथ अंतिम तिथि: 25/02/2024\n",
    "परीक्षा तिथि: 07-17 मार्च 2024\n",
    "\n",
    " Fee:\n",
    " \n",
    "सामान्य / ओबीसी / अन्य राज्य: 750/-\n",
    "एससी / एसटी / एपीएच: 200/-\n",
    "महिला उम्मीदवार (बिहार डोम.) : 200/-\n",
    "केवल ऑनलाइन / ऑफ़लाइन फी मोड के माध्यम से परीक्षा शुल्क जमा करें\n",
    "न्यूनतम आयु: प्राथमिक शिक्षक के लिए 18 वर्ष\n",
    "न्यूनतम आयु: टीजीटी / पीजीटी शिक्षक के लिए 21 वर्ष\n",
    "अधिकतम आयु: पुरुष के लिए 37 वर्ष और महिला के लिए 40 वर्ष\n",
    "आयु शांति के लिए BPSC स्कूल प्राथमिक, टीजीटी, पीजीटी शिक्षक भर्ती 2024 के लिए अधिसूचना पढ़ें।\n",
    "उच्चतर माध्यमिक में 50% अंकों के साथ और प्राथमिक शिक्षा में 2 वर्ष की डिप्लोमा OR\n",
    "उच्चतर माध्यमिक में 45% अंकों के साथ और प्राथमिक शिक्षा में 2 वर्ष की डिप्लोमा (NCTE नॉर्म्स 2002 के अनुसार) OR\n",
    "उच्चतर माध्यमिक में 50% अंकों के साथ और 4 वर्ष की B.L.Ed पाठ्यक्रम OR\n",
    "उच्चतर माध्यमिक में 50% अंकों के साथ और प्राथमिक शिक्षा में 2 वर्ष की डिप्लोमा (विशेष) OR\n",
    "किसी भी स्ट्रीम में स्नातक डिग्री और प्राथमिक शिक्षा में 2 वर्ष की डिप्लोमा\n",
    "सीटेट /\n",
    "\n",
    "BTET Paper I Exam Passed\n",
    "अधिक पात्रता के लिए अधिसूचना पढ़ें।\n",
    "\n",
    "\n",
    "\"\"\""
   ]
  },
  {
   "cell_type": "code",
   "execution_count": 13,
   "id": "bbe4f6b1",
   "metadata": {},
   "outputs": [],
   "source": [
    "text3 = \"Kya aap apply kar rahe hai , Comment me jarur bataye \""
   ]
  },
  {
   "cell_type": "code",
   "execution_count": 14,
   "id": "aeea4393",
   "metadata": {},
   "outputs": [],
   "source": [
    "text4=\" Thanks for watching , Best of Luck for Your Future \""
   ]
  },
  {
   "cell_type": "code",
   "execution_count": 15,
   "id": "9babfe81",
   "metadata": {},
   "outputs": [],
   "source": [
    "txt=text1 + text2 + text3 + text4"
   ]
  },
  {
   "cell_type": "code",
   "execution_count": 16,
   "id": "f3281089",
   "metadata": {},
   "outputs": [],
   "source": [
    "tts=gTTS(text=txt,lang='hi',slow=False)"
   ]
  },
  {
   "cell_type": "code",
   "execution_count": 17,
   "id": "11550774",
   "metadata": {},
   "outputs": [],
   "source": [
    "tts.save('audio.mp3')"
   ]
  },
  {
   "cell_type": "code",
   "execution_count": null,
   "id": "760b21a7",
   "metadata": {},
   "outputs": [],
   "source": []
  }
 ],
 "metadata": {
  "kernelspec": {
   "display_name": "Python 3 (ipykernel)",
   "language": "python",
   "name": "python3"
  },
  "language_info": {
   "codemirror_mode": {
    "name": "ipython",
    "version": 3
   },
   "file_extension": ".py",
   "mimetype": "text/x-python",
   "name": "python",
   "nbconvert_exporter": "python",
   "pygments_lexer": "ipython3",
   "version": "3.11.5"
  }
 },
 "nbformat": 4,
 "nbformat_minor": 5
}
