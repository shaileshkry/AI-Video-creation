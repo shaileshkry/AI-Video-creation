{
 "cells": [
  {
   "cell_type": "code",
   "execution_count": 1,
   "id": "6e0884ce",
   "metadata": {},
   "outputs": [],
   "source": [
    "#!pip install gtts"
   ]
  },
  {
   "cell_type": "code",
   "execution_count": 2,
   "id": "e1332d8c",
   "metadata": {},
   "outputs": [],
   "source": [
    "from gtts import gTTS"
   ]
  },
  {
   "cell_type": "code",
   "execution_count": 3,
   "id": "b04a7cc1",
   "metadata": {},
   "outputs": [],
   "source": [
    "text1=\"Subscribe My Youtube Channel  Samachar Hut for more videos \""
   ]
  },
  {
   "cell_type": "code",
   "execution_count": 4,
   "id": "6feee4d3",
   "metadata": {},
   "outputs": [],
   "source": [
    "text2=\"\"\"\n",
    "\n",
    "UPSC Civil Services IAS IFS Pre Online Form 2024\n",
    "आवेदन प्रारंभ: 14/02/2024\n",
    "ऑनलाइन आवेदन करने की अंतिम तारीख: 05/03/2024\n",
    "\n",
    "परीक्षा शुल्क जमा करने की अंतिम तारीख: 05/03/2024\n",
    "सुधार की तारीख: 06-12 मार्च 2024\n",
    "प्रारंभिक परीक्षा तिथि: 26/05/2024\n",
    "प्रवेश पत्र उपलब्ध: परीक्षा से पहले\n",
    "सामान्य / ओबीसी / ईडब्ल्यूएस: 100/-\n",
    "एससी / एसटी / पीएच: 0/- (छूट)\n",
    "सभी श्रेणी की महिला: 0/- (शून्य)\n",
    "परीक्षा शुल्क का भुगतान करें डेबिट कार्ड, क्रेडिट कार्ड, नेट बैंकिंग या ई-चालान शुल्क मोड के माध्यम से ही\n",
    "न्यूनतम आयु: 21 वर्ष\n",
    "अधिकतम आयु: 32 वर्ष\n",
    "आयु शांति यूपीएससी सिविल सेवा और वन सेवा और वन्यजन्तु विज्ञान परीक्षा 2024 भर्ती नियमों के अनुसार अतिरिक्त\n",
    "किसी भी मान्यता प्राप्त भारतीय विश्वविद्यालय में किसी भी स्ट्रीम में स्नातक डिग्री\n",
    "किसी भी विषय के रूप में स्नातक डिग्री एनिमल हस्बैंड्री और वेटरनरी साइंस, वनस्पति विज्ञान, रसायन विज्ञान, भूविज्ञान, गणित, भौतिकी, सांख्यिकी, जैविकी, कृषि या समकक्ष।\n",
    "सिविल सेवा और वन सेवा भर्ती 2024 के लिए आवेदन करने के लिए उम्मीदवार को एक बार पंजीकरण करना अनिवार्य होगा।\n",
    "यूनियन पब्लिक सर्विस कमीशन यूपीएससी सिविल सेवा / वन सेवा IAS / IFS प्रारंभिक परीक्षा नवीनतम नौकरियों भर्ती 2024। उम्मीदवार 14/02/2024 से 05/03/2024 के बीच आवेदन कर सकते हैं।\n",
    "उम्मीदवार नोटिफिकेशन पढ़ें और उसे यूपीएससी 2024 भर्ती आवेदन पत्र में आवेदन करने से पहले देखें।\n",
    "कृपया सभी दस्तावेज़ - पात्रता, पहचान प्रमाण पत्र, पता विवरण, मौलिक विवरण जाँचें और संग्रहित करें।\n",
    "कृपया भर्ती परीक्षा फॉर्म से संबंधित स्कैन दस्तावेज़ - फोटो, साइन, आईडी प्रूफ, आदि तैयार करें।\n",
    "\n",
    "\n",
    "\"\"\""
   ]
  },
  {
   "cell_type": "code",
   "execution_count": 5,
   "id": "5c48d495",
   "metadata": {},
   "outputs": [],
   "source": [
    "text3 = \"Kya aap apply kar rahe hai , Comment me jarur bataye \""
   ]
  },
  {
   "cell_type": "code",
   "execution_count": 6,
   "id": "5453c7bf",
   "metadata": {},
   "outputs": [],
   "source": [
    "text4=\" Thanks for watching , Best of Luck for Your Future \""
   ]
  },
  {
   "cell_type": "code",
   "execution_count": 7,
   "id": "e47a965b",
   "metadata": {},
   "outputs": [],
   "source": [
    "txt=text1 + text2 + text3 + text4"
   ]
  },
  {
   "cell_type": "code",
   "execution_count": 8,
   "id": "ffc561b1",
   "metadata": {},
   "outputs": [],
   "source": [
    "tts=gTTS(text=txt,lang='hi',slow=False)"
   ]
  },
  {
   "cell_type": "code",
   "execution_count": 9,
   "id": "151725a6",
   "metadata": {},
   "outputs": [],
   "source": [
    "tts.save('audio.mp3')"
   ]
  },
  {
   "cell_type": "code",
   "execution_count": null,
   "id": "33010489",
   "metadata": {},
   "outputs": [],
   "source": []
  },
  {
   "cell_type": "code",
   "execution_count": null,
   "id": "427d86de",
   "metadata": {},
   "outputs": [],
   "source": []
  },
  {
   "cell_type": "code",
   "execution_count": null,
   "id": "1b130110",
   "metadata": {},
   "outputs": [],
   "source": []
  },
  {
   "cell_type": "code",
   "execution_count": null,
   "id": "71b68299",
   "metadata": {},
   "outputs": [],
   "source": []
  }
 ],
 "metadata": {
  "kernelspec": {
   "display_name": "Python 3 (ipykernel)",
   "language": "python",
   "name": "python3"
  },
  "language_info": {
   "codemirror_mode": {
    "name": "ipython",
    "version": 3
   },
   "file_extension": ".py",
   "mimetype": "text/x-python",
   "name": "python",
   "nbconvert_exporter": "python",
   "pygments_lexer": "ipython3",
   "version": "3.11.5"
  }
 },
 "nbformat": 4,
 "nbformat_minor": 5
}
